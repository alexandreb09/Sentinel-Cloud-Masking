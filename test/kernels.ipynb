{
 "cells": [
  {
   "cell_type": "markdown",
   "metadata": {},
   "source": [
    "# Kernels\n",
    "In this notebook we will compute the kernel (kernel as in kernel methods for non parametric regression, classification...) of a set of randomly sample set of 100 pixels.\n",
    "\n",
    "Sample pixels an get them into a `numpy` array for further checks."
   ]
  },
  {
   "cell_type": "code",
   "execution_count": 1,
   "metadata": {
    "collapsed": false
   },
   "outputs": [
    {
     "name": "stdout",
     "output_type": "stream",
     "text": [
      "('Number of features: ', 100)\n",
      "('Properties: ', [u'B4', u'B3', u'B2', u'system:index'])\n",
      "('The local numpy retrieved array has shape: ', (100, 3))\n"
     ]
    }
   ],
   "source": [
    "import ee\n",
    "import numpy as np\n",
    "from ee_ipl_uv import kernel\n",
    "\n",
    "ee.Initialize()\n",
    "\n",
    "# Get some bands of an image\n",
    "im_original = ee.Image('LANDSAT/LC8_L1T_TOA/LC81980332015119LGN00')\n",
    "properties = [\"B4\",\"B3\",\"B2\"]\n",
    "im = im_original.select(properties)\n",
    "\n",
    "# Sample 100 pixels of this 3 band image using seed 45. Resulting object is a featureCollection\n",
    "feature_collection = im.sample(numPixels=100,seed=45)\n",
    "\n",
    "# We have 100 features with 4 properties each (the properties are the bands of the image plus the index)\n",
    "print(\"Number of features: \",feature_collection.size().getInfo())\n",
    "print(\"Properties: \",ee.Feature(feature_collection.first()).propertyNames().getInfo())\n",
    "\n",
    "# Construct kernel object\n",
    "kernel_lineal = kernel.Kernel(feature_collection,properties)\n",
    "\n",
    "# Convert local feature_collection to numpy array\n",
    "array = kernel_lineal.getNumpy()\n",
    "\n",
    "print(\"The local numpy retrieved array has shape: \",array.shape)\n"
   ]
  },
  {
   "cell_type": "code",
   "execution_count": 2,
   "metadata": {
    "collapsed": false
   },
   "outputs": [
    {
     "name": "stdout",
     "output_type": "stream",
     "text": [
      "[0.04522761330008507, 0.06556501984596252, 0.11201750487089157]\n"
     ]
    }
   ],
   "source": [
    "# Select first element on the feature collection\n",
    "current_array = ee.Feature(feature_collection.first()).toArray(properties)\n",
    "\n",
    "print(current_array.getInfo())"
   ]
  },
  {
   "cell_type": "markdown",
   "metadata": {},
   "source": [
    "## Apply RBF kernel\n",
    "\n",
    "Let's try an [rbf](https://en.wikipedia.org/wiki/Radial_basis_function_kernel) kernel. Which is also implemented our `kernel` module."
   ]
  },
  {
   "cell_type": "code",
   "execution_count": 3,
   "metadata": {
    "collapsed": false
   },
   "outputs": [
    {
     "name": "stdout",
     "output_type": "stream",
     "text": [
      "('Retrieved values have shape:', (100,))\n",
      "('Applying the kernel with numpy lead to (almost)       the same results as doing it on the server: ', 8.1462152316096299e-09)\n"
     ]
    }
   ],
   "source": [
    "\n",
    "# Construct rbf kernel object with .5 gamma\n",
    "kernel_rbf = kernel.Kernel(feature_collection,properties,distancia = kernel.RBFDistance(.5))\n",
    "\n",
    "# Apply kernel (on GEE) to first feature\n",
    "kernel_distances = kernel_rbf.applyToArray(current_array)\n",
    "\n",
    "# Retrieve vector values as a numpy array\n",
    "kernel_distances = np.asanyarray(kernel_distances.getInfo())\n",
    "\n",
    "print(\"Retrieved values have shape:\",kernel_distances.shape)\n",
    "\n",
    "# Apply the rbf kernel with numpy:\n",
    "first_value = array[0,:]\n",
    "valor = np.zeros(array.shape[0])\n",
    "for i in range(0,array.shape[0]):\n",
    "    difference = array[i,:]-(first_value)\n",
    "    valor[i] = np.exp(-.5*difference.dot(difference))\n",
    "\n",
    "print(\"Applying the kernel with numpy lead to (almost) \\\n",
    "      the same results as doing it on the server: \",np.linalg.norm(valor-kernel_distances))\n",
    "\n",
    "assert np.linalg.norm(valor-kernel_distances) < 1e-4, \" computed kernel vector is not OK\""
   ]
  },
  {
   "cell_type": "markdown",
   "metadata": {},
   "source": [
    "## Apply RBF kernel to set of Pixels\n",
    "\n",
    "We will do it in python with `numpy` and `scipy` vectorized functions. "
   ]
  },
  {
   "cell_type": "code",
   "execution_count": 4,
   "metadata": {
    "collapsed": false
   },
   "outputs": [
    {
     "name": "stdout",
     "output_type": "stream",
     "text": [
      "('The first column is as expected the array computed before: ', 1.5700924586837752e-16)\n",
      "(\"We don't obtain the same kernel but approximately yes.\", 1.1603736874027092e-07)\n"
     ]
    }
   ],
   "source": [
    "from scipy.spatial.distance import pdist, squareform\n",
    "\n",
    "# Compute the rbf kernel locally using scipy:\n",
    "pairwise_dists = squareform(pdist(array, 'euclidean'))\n",
    "kernel_matrix_rbf_numpy = np.exp(-.5*pairwise_dists**2)\n",
    "\n",
    "# Check the local computation equals the loop implementation of above\n",
    "print(\"The first column is as expected the array computed before: \",\n",
    "      np.linalg.norm(valor-kernel_matrix_rbf_numpy[:,0]))\n",
    "\n",
    "# Compute the kernel on GEE:\n",
    "kernel_matrix_rbf = kernel_rbf.getKeeArray()\n",
    "# Retrieve that kernel matrix as a numpy array\n",
    "kernel_matrix_rbf = np.asanyarray(kernel_matrix_rbf.getInfo())\n",
    "\n",
    "# Compare kernel computed locally and on GEE\n",
    "print(\"We don't obtain the same kernel but approximately yes.\",\n",
    "      np.linalg.norm((kernel_matrix_rbf - kernel_matrix_rbf_numpy)))\n",
    "assert np.linalg.norm((kernel_matrix_rbf - kernel_matrix_rbf_numpy)) < 1e-4,\" computed kernel matrix is not OK\""
   ]
  },
  {
   "cell_type": "markdown",
   "metadata": {},
   "source": [
    "## Kernelized Ridge Regression\n",
    "\n",
    "We want to try *krr* on GEE using our recently implemented *rbf* kernel. \n",
    "\n",
    "To do this we will take another 100 values from `B5` band: $y \\in \\mathbb{R}(p)$ of the same pixels (we will achieve this using the same seed on sample). Then we will fit the model:\n",
    "$$\n",
    " y_i \\sim \\phi(x_i)^t\\cdot w\n",
    "$$\n",
    "\n",
    "### Model Description\n",
    "\n",
    "Where $\\phi$ is the non-linear transform induced by rbf kernel. Therefore we want to minimize:\n",
    "\n",
    "$$\n",
    "|| y - \\phi(X)\\cdot w ||^2 + \\lambda|| w ||^2\n",
    "$$\n",
    "\n",
    "Where we have introduced the regularization term: $\\lambda|| w ||^2$. This leads to the optimum $w^\\star$:\n",
    "$$\n",
    "w^\\star = \\phi(X)^t (\\phi(X)\\cdot \\phi(X)^t+\\lambda I )^{-1}  \\cdot y\n",
    "$$\n",
    "\n",
    "Using that our kernel matrix $K=\\phi(X)\\cdot \\phi(X)^t$ and naming $\\alpha = (K+\\lambda I )^{-1}  \\cdot y \\in \\mathbb{R}(p)$ we have:\n",
    "\n",
    "$$\n",
    "w^\\star = \\phi(X)^t\\cdot \\alpha\n",
    "$$\n",
    "\n",
    "Finally, we can apply our model to a new sample $x'\\in \\mathbb{R}(B)$ which will be:\n",
    "\n",
    "$$\n",
    "\\phi(x')^t \\cdot w^\\star = k'^t \\cdot \\alpha\n",
    "$$\n",
    "\n",
    "Where $k' = \\phi(x')^t \\cdot \\phi(X)^t$ corresponds to apply the kernel to the feature vector $x'$.\n",
    "\n",
    "We start by selecting the band, checking that same seed means same sampled `featureCollection`."
   ]
  },
  {
   "cell_type": "code",
   "execution_count": 5,
   "metadata": {
    "collapsed": false
   },
   "outputs": [
    {
     "name": "stdout",
     "output_type": "stream",
     "text": [
      "('B4 pixels are the same as before: ', True)\n",
      "<class 'ee.Array'>\n",
      "[100, 1]\n"
     ]
    }
   ],
   "source": [
    "# random_vector_server = ee.Array(np.random.randn(array.shape[0]).tolist())\n",
    "\n",
    "# Select 4 and 5 layer\n",
    "vector_server = im_original.select(\"B[4-5]\")\n",
    "\n",
    "# Sample 100 pixels from this layer\n",
    "vector_server = vector_server.sample(numPixels=100,seed=45)\n",
    "\n",
    "# Check B4 pixels are equal to the ones on our array (should be as we are using the same seed)\n",
    "B4_vector = np.asanyarray(vector_server.aggregate_array(\"B4\").getInfo())\n",
    "print(\"B4 pixels are the same as before: \",np.all(B4_vector == array[:,0]))\n",
    "\n",
    "# Get B5 vector\n",
    "B5_vector = ee.Array(vector_server.aggregate_array(\"B5\"))\n",
    "\n",
    "# We do not retrieve B5:\n",
    "print(type(B5_vector))\n",
    "\n",
    "# IMPORTANT: B5 must be 2 dim array!!\n",
    "B5_vector = ee.Array.cat([B5_vector], 1)\n",
    "\n",
    "print(B5_vector.length().getInfo())\n"
   ]
  },
  {
   "cell_type": "markdown",
   "metadata": {},
   "source": [
    "We will retrieve the $\\alpha$ vector using a regularization factor $\\lambda = .1$"
   ]
  },
  {
   "cell_type": "code",
   "execution_count": 6,
   "metadata": {
    "collapsed": false
   },
   "outputs": [
    {
     "data": {
      "text/plain": [
       "(100, 1)"
      ]
     },
     "execution_count": 6,
     "metadata": {},
     "output_type": "execute_result"
    }
   ],
   "source": [
    "lda = .1\n",
    "np_alpha_vector = kernel_rbf.getAlphaNumpy(B5_vector,lda)\n",
    "\n",
    "np_alpha_vector.shape"
   ]
  },
  {
   "cell_type": "markdown",
   "metadata": {},
   "source": [
    "Check alpha vector using `numpy`."
   ]
  },
  {
   "cell_type": "code",
   "execution_count": 7,
   "metadata": {
    "collapsed": false
   },
   "outputs": [
    {
     "name": "stdout",
     "output_type": "stream",
     "text": [
      "('Shape of alpha vector is:', (100, 1))\n",
      "(' alpha local vs alpha server diff:', 5.6272754855707717e-07)\n",
      "('Norm of alpha (big values usually means problems):', 5.3050682226632162)\n"
     ]
    }
   ],
   "source": [
    "# Convert B5 server vector to numpy array\n",
    "B5_vector_numpy = np.asanyarray(B5_vector.getInfo())\n",
    "\n",
    "# Compute alpha using numpy (K+\\lamdaI)^-1*y\n",
    "alpha_local = np.linalg.solve(kernel_matrix_rbf_numpy+lda*np.eye(kernel_matrix_rbf_numpy.shape[0]),B5_vector_numpy)\n",
    "print(\"Shape of alpha vector is:\",alpha_local.shape)\n",
    "print(\" alpha local vs alpha server diff:\",np.linalg.norm((alpha_local - np_alpha_vector)))\n",
    "assert np.linalg.norm((alpha_local - np_alpha_vector)) < 1e-4, \" alpha local vs alpha server diff are OK\"\n",
    "print(\"Norm of alpha (big values usually means problems):\",np.linalg.norm(alpha_local))"
   ]
  },
  {
   "cell_type": "markdown",
   "metadata": {},
   "source": [
    "### Compute Residuals\n",
    "We know compare the *RMSE* of the model on the in sample values (in-sample error). The computed *RMSE* is lower than the standard deviation (sd) which is the error using the constant mean as the model. "
   ]
  },
  {
   "cell_type": "code",
   "execution_count": 8,
   "metadata": {
    "collapsed": false
   },
   "outputs": [
    {
     "name": "stdout",
     "output_type": "stream",
     "text": [
      "('Shape of residuals vector:', (100, 1))\n",
      "('RMSE:', 0.053050682226632354)\n",
      "('Percentiles: ', array([ 0.01414374,  0.01669631,  0.03180608,  0.08420379,  0.23319263,\n",
      "        0.46967739,  0.82202411]))\n",
      "('sd: ', 0.16169343573704986)\n"
     ]
    }
   ],
   "source": [
    "residuals = kernel_matrix_rbf_numpy.dot(alpha_local)-B5_vector_numpy\n",
    "print(\"Shape of residuals vector:\",residuals.shape)\n",
    "print(\"RMSE:\",np.sqrt(np.mean(residuals**2)))\n",
    "\n",
    "print(\"Percentiles: \",np.percentile(B5_vector_numpy,[0,5,25,50,75,95,100]))\n",
    "print(\"sd: \",np.std(B5_vector_numpy))\n"
   ]
  },
  {
   "cell_type": "markdown",
   "metadata": {},
   "source": [
    "### Apply kernelized regression to a Image\n",
    "\n",
    "This task will be attempted in `kernels_part_2.ipynb` notebook."
   ]
  }
 ],
 "metadata": {
  "kernelspec": {
   "display_name": "Python 2",
   "language": "python",
   "name": "python2"
  },
  "language_info": {
   "codemirror_mode": {
    "name": "ipython",
    "version": 2
   },
   "file_extension": ".py",
   "mimetype": "text/x-python",
   "name": "python",
   "nbconvert_exporter": "python",
   "pygments_lexer": "ipython2",
   "version": "2.7.11+"
  }
 },
 "nbformat": 4,
 "nbformat_minor": 0
}
