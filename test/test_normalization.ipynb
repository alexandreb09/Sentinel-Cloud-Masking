{
 "cells": [
  {
   "cell_type": "code",
   "execution_count": 6,
   "metadata": {
    "collapsed": false
   },
   "outputs": [],
   "source": [
    "from ee_ipl_uv import normalization\n",
    "from ee_ipl_uv import converters\n",
    "\n",
    "import numpy as np\n",
    "import ee\n",
    "\n",
    "\n",
    "ee.Initialize()\n",
    "im = ee.Image('LANDSAT/LC8_L1T_TOA/LC81980332015119LGN00').select([\"B2\",\"B3\",\"B4\"])\n",
    "ftcol = im.sample(numPixels=10,seed=23)\n",
    "ftcol_pd = converters.eeFeatureCollectionToPandas(ftcol,[\"B2\",\"B3\",\"B4\"])\n",
    "\n",
    "weights = ftcol_pd.B4\n",
    "ftcol_pd_1 = ftcol_pd[[\"B2\",\"B3\"]]\n",
    "    \n",
    "ftcol_pd_2 = ftcol_pd_1.apply(lambda x: x -np.average(x,weights=weights))\n",
    "\n",
    "ftcol_pd_3 = ftcol_pd_1.apply(lambda x: x -np.average(x,weights=100*weights))\n",
    "\n",
    "np.testing.assert_allclose(ftcol_pd_2, ftcol_pd_3)"
   ]
  },
  {
   "cell_type": "code",
   "execution_count": 5,
   "metadata": {
    "collapsed": false
   },
   "outputs": [],
   "source": [
    "ftcol_norm, mean, std = normalization.ComputeNormalizationFeatureCollection(ftcol,[\"B2\",\"B3\"],weight=\"B4\",\n",
    "                                                                           only_center_data=True)\n",
    "\n",
    "ftcol_norm_pd = converters.eeFeatureCollectionToPandas(ftcol_norm,[\"B2\",\"B3\"])\n",
    "\n",
    "np.testing.assert_allclose(ftcol_norm_pd, ftcol_pd_2)\n",
    "# weights = [weight for b in bands_to_normalize]"
   ]
  }
 ],
 "metadata": {
  "kernelspec": {
   "display_name": "Python 2",
   "language": "python",
   "name": "python2"
  },
  "language_info": {
   "codemirror_mode": {
    "name": "ipython",
    "version": 2.0
   },
   "file_extension": ".py",
   "mimetype": "text/x-python",
   "name": "python",
   "nbconvert_exporter": "python",
   "pygments_lexer": "ipython2",
   "version": "2.7.11+"
  }
 },
 "nbformat": 4,
 "nbformat_minor": 0
}